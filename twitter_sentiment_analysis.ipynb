{
  "cells": [
    {
      "cell_type": "markdown",
      "metadata": {
        "id": "view-in-github",
        "colab_type": "text"
      },
      "source": [
        "<a href=\"https://colab.research.google.com/github/Usman-Meh/Usman-ali/blob/main/twitter_sentiment_analysis.ipynb\" target=\"_parent\"><img src=\"https://colab.research.google.com/assets/colab-badge.svg\" alt=\"Open In Colab\"/></a>"
      ]
    },
    {
      "cell_type": "markdown",
      "metadata": {
        "id": "QCmHNoFMYNx4"
      },
      "source": [
        "# **Twitter Sentiment Analysis**"
      ]
    },
    {
      "cell_type": "code",
      "execution_count": null,
      "metadata": {
        "id": "5iSf2MDkYTAm"
      },
      "outputs": [],
      "source": [
        "import pandas as pd\n",
        "import numpy as np\n",
        "import re\n",
        "import nltk"
      ]
    },
    {
      "cell_type": "code",
      "execution_count": null,
      "metadata": {
        "colab": {
          "base_uri": "https://localhost:8080/",
          "height": 206
        },
        "id": "pE4MT7PigthW",
        "outputId": "66b6f73a-e8da-4f1a-f3ce-2bc8bcf1923e"
      },
      "outputs": [
        {
          "data": {
            "application/vnd.google.colaboratory.intrinsic+json": {
              "type": "dataframe",
              "variable_name": "data"
            },
            "text/html": [
              "\n",
              "  <div id=\"df-8f45b3c4-84a8-4f30-8a58-31af546a0f4c\" class=\"colab-df-container\">\n",
              "    <div>\n",
              "<style scoped>\n",
              "    .dataframe tbody tr th:only-of-type {\n",
              "        vertical-align: middle;\n",
              "    }\n",
              "\n",
              "    .dataframe tbody tr th {\n",
              "        vertical-align: top;\n",
              "    }\n",
              "\n",
              "    .dataframe thead th {\n",
              "        text-align: right;\n",
              "    }\n",
              "</style>\n",
              "<table border=\"1\" class=\"dataframe\">\n",
              "  <thead>\n",
              "    <tr style=\"text-align: right;\">\n",
              "      <th></th>\n",
              "      <th>Target</th>\n",
              "      <th>ID</th>\n",
              "      <th>Date</th>\n",
              "      <th>flat</th>\n",
              "      <th>user</th>\n",
              "      <th>text</th>\n",
              "    </tr>\n",
              "  </thead>\n",
              "  <tbody>\n",
              "    <tr>\n",
              "      <th>0</th>\n",
              "      <td>0</td>\n",
              "      <td>1467810369</td>\n",
              "      <td>Mon Apr 06 22:19:45 PDT 2009</td>\n",
              "      <td>NO_QUERY</td>\n",
              "      <td>_TheSpecialOne_</td>\n",
              "      <td>@switchfoot http://twitpic.com/2y1zl - Awww, t...</td>\n",
              "    </tr>\n",
              "    <tr>\n",
              "      <th>1</th>\n",
              "      <td>0</td>\n",
              "      <td>1467810672</td>\n",
              "      <td>Mon Apr 06 22:19:49 PDT 2009</td>\n",
              "      <td>NO_QUERY</td>\n",
              "      <td>scotthamilton</td>\n",
              "      <td>is upset that he can't update his Facebook by ...</td>\n",
              "    </tr>\n",
              "    <tr>\n",
              "      <th>2</th>\n",
              "      <td>0</td>\n",
              "      <td>1467810917</td>\n",
              "      <td>Mon Apr 06 22:19:53 PDT 2009</td>\n",
              "      <td>NO_QUERY</td>\n",
              "      <td>mattycus</td>\n",
              "      <td>@Kenichan I dived many times for the ball. Man...</td>\n",
              "    </tr>\n",
              "    <tr>\n",
              "      <th>3</th>\n",
              "      <td>0</td>\n",
              "      <td>1467811184</td>\n",
              "      <td>Mon Apr 06 22:19:57 PDT 2009</td>\n",
              "      <td>NO_QUERY</td>\n",
              "      <td>ElleCTF</td>\n",
              "      <td>my whole body feels itchy and like its on fire</td>\n",
              "    </tr>\n",
              "    <tr>\n",
              "      <th>4</th>\n",
              "      <td>0</td>\n",
              "      <td>1467811193</td>\n",
              "      <td>Mon Apr 06 22:19:57 PDT 2009</td>\n",
              "      <td>NO_QUERY</td>\n",
              "      <td>Karoli</td>\n",
              "      <td>@nationwideclass no, it's not behaving at all....</td>\n",
              "    </tr>\n",
              "  </tbody>\n",
              "</table>\n",
              "</div>\n",
              "    <div class=\"colab-df-buttons\">\n",
              "\n",
              "  <div class=\"colab-df-container\">\n",
              "    <button class=\"colab-df-convert\" onclick=\"convertToInteractive('df-8f45b3c4-84a8-4f30-8a58-31af546a0f4c')\"\n",
              "            title=\"Convert this dataframe to an interactive table.\"\n",
              "            style=\"display:none;\">\n",
              "\n",
              "  <svg xmlns=\"http://www.w3.org/2000/svg\" height=\"24px\" viewBox=\"0 -960 960 960\">\n",
              "    <path d=\"M120-120v-720h720v720H120Zm60-500h600v-160H180v160Zm220 220h160v-160H400v160Zm0 220h160v-160H400v160ZM180-400h160v-160H180v160Zm440 0h160v-160H620v160ZM180-180h160v-160H180v160Zm440 0h160v-160H620v160Z\"/>\n",
              "  </svg>\n",
              "    </button>\n",
              "\n",
              "  <style>\n",
              "    .colab-df-container {\n",
              "      display:flex;\n",
              "      gap: 12px;\n",
              "    }\n",
              "\n",
              "    .colab-df-convert {\n",
              "      background-color: #E8F0FE;\n",
              "      border: none;\n",
              "      border-radius: 50%;\n",
              "      cursor: pointer;\n",
              "      display: none;\n",
              "      fill: #1967D2;\n",
              "      height: 32px;\n",
              "      padding: 0 0 0 0;\n",
              "      width: 32px;\n",
              "    }\n",
              "\n",
              "    .colab-df-convert:hover {\n",
              "      background-color: #E2EBFA;\n",
              "      box-shadow: 0px 1px 2px rgba(60, 64, 67, 0.3), 0px 1px 3px 1px rgba(60, 64, 67, 0.15);\n",
              "      fill: #174EA6;\n",
              "    }\n",
              "\n",
              "    .colab-df-buttons div {\n",
              "      margin-bottom: 4px;\n",
              "    }\n",
              "\n",
              "    [theme=dark] .colab-df-convert {\n",
              "      background-color: #3B4455;\n",
              "      fill: #D2E3FC;\n",
              "    }\n",
              "\n",
              "    [theme=dark] .colab-df-convert:hover {\n",
              "      background-color: #434B5C;\n",
              "      box-shadow: 0px 1px 3px 1px rgba(0, 0, 0, 0.15);\n",
              "      filter: drop-shadow(0px 1px 2px rgba(0, 0, 0, 0.3));\n",
              "      fill: #FFFFFF;\n",
              "    }\n",
              "  </style>\n",
              "\n",
              "    <script>\n",
              "      const buttonEl =\n",
              "        document.querySelector('#df-8f45b3c4-84a8-4f30-8a58-31af546a0f4c button.colab-df-convert');\n",
              "      buttonEl.style.display =\n",
              "        google.colab.kernel.accessAllowed ? 'block' : 'none';\n",
              "\n",
              "      async function convertToInteractive(key) {\n",
              "        const element = document.querySelector('#df-8f45b3c4-84a8-4f30-8a58-31af546a0f4c');\n",
              "        const dataTable =\n",
              "          await google.colab.kernel.invokeFunction('convertToInteractive',\n",
              "                                                    [key], {});\n",
              "        if (!dataTable) return;\n",
              "\n",
              "        const docLinkHtml = 'Like what you see? Visit the ' +\n",
              "          '<a target=\"_blank\" href=https://colab.research.google.com/notebooks/data_table.ipynb>data table notebook</a>'\n",
              "          + ' to learn more about interactive tables.';\n",
              "        element.innerHTML = '';\n",
              "        dataTable['output_type'] = 'display_data';\n",
              "        await google.colab.output.renderOutput(dataTable, element);\n",
              "        const docLink = document.createElement('div');\n",
              "        docLink.innerHTML = docLinkHtml;\n",
              "        element.appendChild(docLink);\n",
              "      }\n",
              "    </script>\n",
              "  </div>\n",
              "\n",
              "\n",
              "<div id=\"df-e8b9922e-77be-4c35-9fc7-9eda1cb51378\">\n",
              "  <button class=\"colab-df-quickchart\" onclick=\"quickchart('df-e8b9922e-77be-4c35-9fc7-9eda1cb51378')\"\n",
              "            title=\"Suggest charts\"\n",
              "            style=\"display:none;\">\n",
              "\n",
              "<svg xmlns=\"http://www.w3.org/2000/svg\" height=\"24px\"viewBox=\"0 0 24 24\"\n",
              "     width=\"24px\">\n",
              "    <g>\n",
              "        <path d=\"M19 3H5c-1.1 0-2 .9-2 2v14c0 1.1.9 2 2 2h14c1.1 0 2-.9 2-2V5c0-1.1-.9-2-2-2zM9 17H7v-7h2v7zm4 0h-2V7h2v10zm4 0h-2v-4h2v4z\"/>\n",
              "    </g>\n",
              "</svg>\n",
              "  </button>\n",
              "\n",
              "<style>\n",
              "  .colab-df-quickchart {\n",
              "      --bg-color: #E8F0FE;\n",
              "      --fill-color: #1967D2;\n",
              "      --hover-bg-color: #E2EBFA;\n",
              "      --hover-fill-color: #174EA6;\n",
              "      --disabled-fill-color: #AAA;\n",
              "      --disabled-bg-color: #DDD;\n",
              "  }\n",
              "\n",
              "  [theme=dark] .colab-df-quickchart {\n",
              "      --bg-color: #3B4455;\n",
              "      --fill-color: #D2E3FC;\n",
              "      --hover-bg-color: #434B5C;\n",
              "      --hover-fill-color: #FFFFFF;\n",
              "      --disabled-bg-color: #3B4455;\n",
              "      --disabled-fill-color: #666;\n",
              "  }\n",
              "\n",
              "  .colab-df-quickchart {\n",
              "    background-color: var(--bg-color);\n",
              "    border: none;\n",
              "    border-radius: 50%;\n",
              "    cursor: pointer;\n",
              "    display: none;\n",
              "    fill: var(--fill-color);\n",
              "    height: 32px;\n",
              "    padding: 0;\n",
              "    width: 32px;\n",
              "  }\n",
              "\n",
              "  .colab-df-quickchart:hover {\n",
              "    background-color: var(--hover-bg-color);\n",
              "    box-shadow: 0 1px 2px rgba(60, 64, 67, 0.3), 0 1px 3px 1px rgba(60, 64, 67, 0.15);\n",
              "    fill: var(--button-hover-fill-color);\n",
              "  }\n",
              "\n",
              "  .colab-df-quickchart-complete:disabled,\n",
              "  .colab-df-quickchart-complete:disabled:hover {\n",
              "    background-color: var(--disabled-bg-color);\n",
              "    fill: var(--disabled-fill-color);\n",
              "    box-shadow: none;\n",
              "  }\n",
              "\n",
              "  .colab-df-spinner {\n",
              "    border: 2px solid var(--fill-color);\n",
              "    border-color: transparent;\n",
              "    border-bottom-color: var(--fill-color);\n",
              "    animation:\n",
              "      spin 1s steps(1) infinite;\n",
              "  }\n",
              "\n",
              "  @keyframes spin {\n",
              "    0% {\n",
              "      border-color: transparent;\n",
              "      border-bottom-color: var(--fill-color);\n",
              "      border-left-color: var(--fill-color);\n",
              "    }\n",
              "    20% {\n",
              "      border-color: transparent;\n",
              "      border-left-color: var(--fill-color);\n",
              "      border-top-color: var(--fill-color);\n",
              "    }\n",
              "    30% {\n",
              "      border-color: transparent;\n",
              "      border-left-color: var(--fill-color);\n",
              "      border-top-color: var(--fill-color);\n",
              "      border-right-color: var(--fill-color);\n",
              "    }\n",
              "    40% {\n",
              "      border-color: transparent;\n",
              "      border-right-color: var(--fill-color);\n",
              "      border-top-color: var(--fill-color);\n",
              "    }\n",
              "    60% {\n",
              "      border-color: transparent;\n",
              "      border-right-color: var(--fill-color);\n",
              "    }\n",
              "    80% {\n",
              "      border-color: transparent;\n",
              "      border-right-color: var(--fill-color);\n",
              "      border-bottom-color: var(--fill-color);\n",
              "    }\n",
              "    90% {\n",
              "      border-color: transparent;\n",
              "      border-bottom-color: var(--fill-color);\n",
              "    }\n",
              "  }\n",
              "</style>\n",
              "\n",
              "  <script>\n",
              "    async function quickchart(key) {\n",
              "      const quickchartButtonEl =\n",
              "        document.querySelector('#' + key + ' button');\n",
              "      quickchartButtonEl.disabled = true;  // To prevent multiple clicks.\n",
              "      quickchartButtonEl.classList.add('colab-df-spinner');\n",
              "      try {\n",
              "        const charts = await google.colab.kernel.invokeFunction(\n",
              "            'suggestCharts', [key], {});\n",
              "      } catch (error) {\n",
              "        console.error('Error during call to suggestCharts:', error);\n",
              "      }\n",
              "      quickchartButtonEl.classList.remove('colab-df-spinner');\n",
              "      quickchartButtonEl.classList.add('colab-df-quickchart-complete');\n",
              "    }\n",
              "    (() => {\n",
              "      let quickchartButtonEl =\n",
              "        document.querySelector('#df-e8b9922e-77be-4c35-9fc7-9eda1cb51378 button');\n",
              "      quickchartButtonEl.style.display =\n",
              "        google.colab.kernel.accessAllowed ? 'block' : 'none';\n",
              "    })();\n",
              "  </script>\n",
              "</div>\n",
              "\n",
              "    </div>\n",
              "  </div>\n"
            ],
            "text/plain": [
              "   Target          ID                          Date      flat  \\\n",
              "0       0  1467810369  Mon Apr 06 22:19:45 PDT 2009  NO_QUERY   \n",
              "1       0  1467810672  Mon Apr 06 22:19:49 PDT 2009  NO_QUERY   \n",
              "2       0  1467810917  Mon Apr 06 22:19:53 PDT 2009  NO_QUERY   \n",
              "3       0  1467811184  Mon Apr 06 22:19:57 PDT 2009  NO_QUERY   \n",
              "4       0  1467811193  Mon Apr 06 22:19:57 PDT 2009  NO_QUERY   \n",
              "\n",
              "              user                                               text  \n",
              "0  _TheSpecialOne_  @switchfoot http://twitpic.com/2y1zl - Awww, t...  \n",
              "1    scotthamilton  is upset that he can't update his Facebook by ...  \n",
              "2         mattycus  @Kenichan I dived many times for the ball. Man...  \n",
              "3          ElleCTF    my whole body feels itchy and like its on fire   \n",
              "4           Karoli  @nationwideclass no, it's not behaving at all....  "
            ]
          },
          "execution_count": 5,
          "metadata": {},
          "output_type": "execute_result"
        }
      ],
      "source": [
        "\n",
        "# Load the dataset using pandas\n",
        "data = pd.read_csv(\"/content/drive/MyDrive/Sentiment Analysis/twiter data.csv\",encoding='latin1',names=['Target','ID','Date','flat','user','text'])\n",
        "data.head()"
      ]
    },
    {
      "cell_type": "code",
      "execution_count": null,
      "metadata": {
        "colab": {
          "base_uri": "https://localhost:8080/"
        },
        "id": "eeCce9OZr9Ie",
        "outputId": "18c73cbb-216b-46ef-b0d7-557a9674992f"
      },
      "outputs": [
        {
          "data": {
            "text/plain": [
              "(1600000, 6)"
            ]
          },
          "execution_count": 6,
          "metadata": {},
          "output_type": "execute_result"
        }
      ],
      "source": [
        "data.shape"
      ]
    },
    {
      "cell_type": "code",
      "execution_count": null,
      "metadata": {
        "colab": {
          "base_uri": "https://localhost:8080/"
        },
        "id": "SgFG-wN9wtfJ",
        "outputId": "af5f570c-52b9-441b-e55d-218573854430"
      },
      "outputs": [
        {
          "data": {
            "text/plain": [
              "Target    0\n",
              "ID        0\n",
              "Date      0\n",
              "flat      0\n",
              "user      0\n",
              "text      0\n",
              "dtype: int64"
            ]
          },
          "execution_count": 7,
          "metadata": {},
          "output_type": "execute_result"
        }
      ],
      "source": [
        "data.isnull().sum()"
      ]
    },
    {
      "cell_type": "code",
      "execution_count": null,
      "metadata": {
        "colab": {
          "base_uri": "https://localhost:8080/"
        },
        "id": "OOfOPTZfNjrs",
        "outputId": "4ff51079-a5a2-4cc2-a5f0-85a4c9fb349c"
      },
      "outputs": [
        {
          "data": {
            "text/plain": [
              "0    800000\n",
              "4    800000\n",
              "Name: Target, dtype: int64"
            ]
          },
          "execution_count": 8,
          "metadata": {},
          "output_type": "execute_result"
        }
      ],
      "source": [
        "#checking the distribution of target column\n",
        "data['Target'].value_counts()"
      ]
    },
    {
      "cell_type": "code",
      "execution_count": null,
      "metadata": {
        "id": "kribJCkvQEhn"
      },
      "outputs": [],
      "source": [
        "# Convert target '4' to '1'\n",
        "data.replace({'Target':{4:1}},inplace=True)"
      ]
    },
    {
      "cell_type": "code",
      "execution_count": null,
      "metadata": {
        "colab": {
          "base_uri": "https://localhost:8080/"
        },
        "id": "6Kp4cNfiQp3r",
        "outputId": "f900e661-dcd6-4e91-fd5f-90b33e363caa"
      },
      "outputs": [
        {
          "data": {
            "text/plain": [
              "0    800000\n",
              "1    800000\n",
              "Name: Target, dtype: int64"
            ]
          },
          "execution_count": 10,
          "metadata": {},
          "output_type": "execute_result"
        }
      ],
      "source": [
        "data['Target'].value_counts()"
      ]
    },
    {
      "cell_type": "markdown",
      "metadata": {
        "id": "n35EvDcMQ7wv"
      },
      "source": [
        "\n",
        "\n",
        "*   0--> negative tweet\n",
        "*   1--> positive tweet\n",
        "\n",
        "\n"
      ]
    },
    {
      "cell_type": "markdown",
      "metadata": {
        "id": "o5n4WKRKRicl"
      },
      "source": [
        "# **Stemming**"
      ]
    },
    {
      "cell_type": "markdown",
      "metadata": {
        "id": "puRNHcNYRmde"
      },
      "source": [
        "converting a word to its root word (actor,actress,acting,)=(act)"
      ]
    },
    {
      "cell_type": "code",
      "execution_count": null,
      "metadata": {
        "id": "u3iNkohzRPAm"
      },
      "outputs": [],
      "source": [
        "from nltk.stem.porter import PorterStemmer"
      ]
    },
    {
      "cell_type": "code",
      "execution_count": null,
      "metadata": {
        "id": "sTmDsTmsTWcL"
      },
      "outputs": [],
      "source": [
        "port_stem1= PorterStemmer()"
      ]
    },
    {
      "cell_type": "markdown",
      "metadata": {
        "id": "akbDpNBAbJ7h"
      },
      "source": [
        "**Isntalling Stopwords**"
      ]
    },
    {
      "cell_type": "code",
      "execution_count": null,
      "metadata": {
        "colab": {
          "base_uri": "https://localhost:8080/"
        },
        "id": "XDd0FlJUbVIB",
        "outputId": "16c66fda-9d3f-48cc-c0ed-7cffc8d44843"
      },
      "outputs": [
        {
          "name": "stderr",
          "output_type": "stream",
          "text": [
            "[nltk_data] Downloading package stopwords to /root/nltk_data...\n",
            "[nltk_data]   Package stopwords is already up-to-date!\n"
          ]
        },
        {
          "data": {
            "text/plain": [
              "True"
            ]
          },
          "execution_count": 14,
          "metadata": {},
          "output_type": "execute_result"
        }
      ],
      "source": [
        "nltk.download('stopwords')"
      ]
    },
    {
      "cell_type": "code",
      "execution_count": null,
      "metadata": {
        "id": "--UrpJebb0e6"
      },
      "outputs": [],
      "source": [
        "from nltk.corpus import stopwords"
      ]
    },
    {
      "cell_type": "code",
      "execution_count": null,
      "metadata": {
        "id": "zmILzVVndLkU"
      },
      "outputs": [],
      "source": [
        "stop_words = stopwords.words('english')"
      ]
    },
    {
      "cell_type": "code",
      "execution_count": null,
      "metadata": {
        "id": "jTodoepvTwzg"
      },
      "outputs": [],
      "source": [
        "# Creating user define function for removing or cleaning all extra characters or words.\n",
        "def stemming(content):\n",
        "  stemmed_content = re.sub('[^a-zA-Z]', \" \",content)   #removing all letters which not in alphabetic\n",
        "  stemmed_content = stemmed_content.lower()   #converting all alphabet in lower form\n",
        "  stemmed_content = stemmed_content.split()   # spliting words with space\n",
        "\n",
        "  stemmed_content = [port_stem1.stem(word) for word in stemmed_content if word not in  stop_words]\n",
        "\n",
        "  stemmed_content = ' '.join(stemmed_content)\n",
        "\n",
        "  return stemmed_content"
      ]
    },
    {
      "cell_type": "code",
      "execution_count": null,
      "metadata": {
        "id": "cmxRTLCxVnKg"
      },
      "outputs": [],
      "source": [
        "data['stemmed_content'] = data['text'].apply(stemming)"
      ]
    },
    {
      "cell_type": "markdown",
      "metadata": {
        "id": "vO5n-PBQjXIE"
      },
      "source": [
        "# **Spliting  Dataset**"
      ]
    },
    {
      "cell_type": "code",
      "execution_count": null,
      "metadata": {
        "id": "KZzIntovjJU1"
      },
      "outputs": [],
      "source": [
        "from sklearn.model_selection import train_test_split"
      ]
    },
    {
      "cell_type": "code",
      "execution_count": null,
      "metadata": {
        "id": "SqvPV3SNjJW_"
      },
      "outputs": [],
      "source": [
        "X =data['stemmed_content'] # text or features\n",
        "\n",
        "Y = data['Target'] #labels\n"
      ]
    },
    {
      "cell_type": "code",
      "execution_count": null,
      "metadata": {
        "colab": {
          "base_uri": "https://localhost:8080/"
        },
        "id": "lFSDHxl0GSVx",
        "outputId": "32927757-5170-4560-e5a9-2622e6401f28"
      },
      "outputs": [
        {
          "data": {
            "text/plain": [
              "0    800000\n",
              "1    800000\n",
              "Name: Target, dtype: int64"
            ]
          },
          "execution_count": 21,
          "metadata": {},
          "output_type": "execute_result"
        }
      ],
      "source": [
        "Y.value_counts()"
      ]
    },
    {
      "cell_type": "code",
      "execution_count": null,
      "metadata": {
        "id": "Fv0_xo2XjJac"
      },
      "outputs": [],
      "source": [
        "X_train ,X_test,Y_train,Y_test = train_test_split(X,Y,test_size=0.3,stratify=Y,random_state=2)\n",
        "                                    #spliting dataset 30% for test and 70% train"
      ]
    },
    {
      "cell_type": "code",
      "execution_count": null,
      "metadata": {
        "colab": {
          "base_uri": "https://localhost:8080/"
        },
        "id": "DGoLoE0NlHJA",
        "outputId": "4b41fffd-1b7f-4a0e-84a3-15365b03bee6"
      },
      "outputs": [
        {
          "name": "stdout",
          "output_type": "stream",
          "text": [
            "(1600000,) (1120000,) (480000,)\n"
          ]
        }
      ],
      "source": [
        "print(X.shape,X_train.shape,X_test.shape)"
      ]
    },
    {
      "cell_type": "code",
      "execution_count": null,
      "metadata": {
        "colab": {
          "base_uri": "https://localhost:8080/"
        },
        "id": "14g3LrGGHzVC",
        "outputId": "18af765d-2025-4a74-8322-84118713850f"
      },
      "outputs": [
        {
          "name": "stdout",
          "output_type": "stream",
          "text": [
            "object\n"
          ]
        }
      ],
      "source": [
        "print(X_train.dtype)"
      ]
    },
    {
      "cell_type": "markdown",
      "metadata": {
        "id": "dVQ5-5gnlmgu"
      },
      "source": [
        "# **Preprocessing**"
      ]
    },
    {
      "cell_type": "code",
      "execution_count": null,
      "metadata": {
        "id": "ljZbHXSAlqxf"
      },
      "outputs": [],
      "source": [
        "from sklearn.feature_extraction.text import TfidfVectorizer"
      ]
    },
    {
      "cell_type": "code",
      "execution_count": null,
      "metadata": {
        "id": "C8T7f6DjmGfw"
      },
      "outputs": [],
      "source": [
        "vectorizer = TfidfVectorizer()\n",
        "\n",
        "X_train_transform = vectorizer.fit_transform(X_train) #fitting and transforming\n",
        "X_test_transform = vectorizer.transform(X_test)  #Only transforming"
      ]
    },
    {
      "cell_type": "code",
      "execution_count": null,
      "metadata": {
        "colab": {
          "base_uri": "https://localhost:8080/"
        },
        "id": "G-y3uxGkmUvx",
        "outputId": "e3abd87f-90c2-461b-d1c9-d0df4e7a54a6"
      },
      "outputs": [
        {
          "name": "stdout",
          "output_type": "stream",
          "text": [
            "  (0, 374778)\t0.31949818170660904\n",
            "  (0, 328004)\t0.5314491135690684\n",
            "  (0, 43969)\t0.4748653389926461\n",
            "  (0, 306319)\t0.4371164314704369\n",
            "  (0, 121348)\t0.44599875194306554\n",
            "  (1, 360908)\t0.20232270128356875\n",
            "  (1, 45367)\t0.24454930105105102\n",
            "  (1, 32222)\t0.2885646935506797\n",
            "  (1, 400139)\t0.5008486447803013\n",
            "  (1, 36162)\t0.21760975021723114\n",
            "  (1, 376966)\t0.16230856596272633\n",
            "  (1, 224362)\t0.24716194206021685\n",
            "  (1, 2941)\t0.3329517305729671\n",
            "  (1, 28528)\t0.1699742942038265\n",
            "  (1, 377777)\t0.5390797727604116\n",
            "  (2, 209149)\t0.36506885244060977\n",
            "  (2, 217307)\t0.35862123416780045\n",
            "  (2, 331146)\t0.45772430309259293\n",
            "  (2, 192775)\t0.7270515839609045\n",
            "  (3, 54144)\t0.3405985100366321\n",
            "  (3, 381278)\t0.3044716859774938\n",
            "  (3, 114004)\t0.3165169852577187\n",
            "  (3, 344001)\t0.3565976148233519\n",
            "  (3, 366377)\t0.4018889828996008\n",
            "  (3, 139076)\t0.25759117714273316\n",
            "  :\t:\n",
            "  (1119996, 327788)\t0.2626904633863284\n",
            "  (1119996, 133766)\t0.14165568151908714\n",
            "  (1119996, 400064)\t0.17675763929108915\n",
            "  (1119996, 366962)\t0.1645582384006955\n",
            "  (1119996, 121102)\t0.2083143336548096\n",
            "  (1119996, 166244)\t0.2582309496394417\n",
            "  (1119997, 364520)\t0.7210223776952688\n",
            "  (1119997, 176159)\t0.6575712947692484\n",
            "  (1119997, 366962)\t0.21846446658016408\n",
            "  (1119998, 384964)\t0.23515032977930925\n",
            "  (1119998, 26391)\t0.22101418705941295\n",
            "  (1119998, 255402)\t0.23115328947076547\n",
            "  (1119998, 313788)\t0.49883995385230084\n",
            "  (1119998, 405750)\t0.597655663753657\n",
            "  (1119998, 252433)\t0.34998949156158465\n",
            "  (1119998, 56066)\t0.20742679758052754\n",
            "  (1119998, 306613)\t0.14119239340870796\n",
            "  (1119998, 155263)\t0.14334431819822027\n",
            "  (1119998, 36162)\t0.17432788141763644\n",
            "  (1119999, 88171)\t0.5404842471107606\n",
            "  (1119999, 124023)\t0.61479006915859\n",
            "  (1119999, 397207)\t0.36018431710547344\n",
            "  (1119999, 28754)\t0.24841651195142356\n",
            "  (1119999, 399014)\t0.31666662934784157\n",
            "  (1119999, 221882)\t0.19541926631660167\n"
          ]
        }
      ],
      "source": [
        "print(X_train_transform)"
      ]
    },
    {
      "cell_type": "code",
      "execution_count": null,
      "metadata": {
        "colab": {
          "base_uri": "https://localhost:8080/"
        },
        "id": "7-3UXMPtmUyT",
        "outputId": "338a24a4-be51-42ef-d87a-41fe24e56b82"
      },
      "outputs": [
        {
          "name": "stdout",
          "output_type": "stream",
          "text": [
            "  (0, 400455)\t0.24464092290138587\n",
            "  (0, 372248)\t0.2111379764309065\n",
            "  (0, 357350)\t0.2678444483614686\n",
            "  (0, 345122)\t0.24201085278417414\n",
            "  (0, 235076)\t0.29762268984383516\n",
            "  (0, 143634)\t0.6303950980554028\n",
            "  (0, 121198)\t0.2668513552052889\n",
            "  (0, 86927)\t0.33413484518869224\n",
            "  (0, 46696)\t0.3105296872456904\n",
            "  (1, 390597)\t0.41919925544830766\n",
            "  (1, 383626)\t0.43305234092570793\n",
            "  (1, 360939)\t0.5151309759331816\n",
            "  (1, 156589)\t0.48451365961749343\n",
            "  (1, 121102)\t0.36962717098251946\n",
            "  (2, 303665)\t1.0\n",
            "  (3, 281474)\t0.6528792362184421\n",
            "  (3, 156926)\t0.2493726437719803\n",
            "  (3, 72122)\t0.26777644261468114\n",
            "  (3, 39958)\t0.6085945392762492\n",
            "  (3, 28528)\t0.2635724776921008\n",
            "  (4, 345184)\t0.51446657839167\n",
            "  (4, 220487)\t0.25816571428786494\n",
            "  (4, 220281)\t0.3037998272593176\n",
            "  (4, 215156)\t0.21842711142276236\n",
            "  (4, 189400)\t0.463921117899177\n",
            "  :\t:\n",
            "  (479996, 229032)\t0.2679813093524318\n",
            "  (479996, 221882)\t0.13337348202484534\n",
            "  (479996, 146137)\t0.16911987546565427\n",
            "  (479996, 118268)\t0.25120743997882045\n",
            "  (479996, 112760)\t0.24731889614264216\n",
            "  (479996, 85937)\t0.12458241685151496\n",
            "  (479996, 81006)\t0.643199214486612\n",
            "  (479996, 64334)\t0.2783135662948636\n",
            "  (479996, 36680)\t0.17418950028078434\n",
            "  (479996, 28065)\t0.19734805650764328\n",
            "  (479997, 414345)\t0.2542062266634476\n",
            "  (479997, 377899)\t0.20517504108768803\n",
            "  (479997, 344550)\t0.2322027185470204\n",
            "  (479997, 340575)\t0.5838760995469279\n",
            "  (479997, 328184)\t0.18844980164450076\n",
            "  (479997, 137283)\t0.14809060586709671\n",
            "  (479997, 85937)\t0.15826821990133932\n",
            "  (479997, 75356)\t0.29846904735042334\n",
            "  (479997, 30156)\t0.5717309137824307\n",
            "  (479998, 312241)\t0.38157596345774647\n",
            "  (479998, 202255)\t0.33260150787022963\n",
            "  (479998, 139536)\t0.8624245016659384\n",
            "  (479999, 223216)\t0.43475019365074496\n",
            "  (479999, 119258)\t0.6328723771148486\n",
            "  (479999, 109678)\t0.6406752870258386\n"
          ]
        }
      ],
      "source": [
        "print(X_test_transform)"
      ]
    },
    {
      "cell_type": "markdown",
      "metadata": {
        "id": "CpKuzLBJo0F5"
      },
      "source": [
        "\n",
        "# **Training the Model**"
      ]
    },
    {
      "cell_type": "markdown",
      "metadata": {
        "id": "66YOa3ZXpB5H"
      },
      "source": [
        "**Applying Classification  Model**\n",
        "\n",
        "\n"
      ]
    },
    {
      "cell_type": "code",
      "execution_count": null,
      "metadata": {
        "id": "Rgg5jCjgo2Pp"
      },
      "outputs": [],
      "source": [
        "from sklearn.linear_model import LogisticRegression"
      ]
    },
    {
      "cell_type": "markdown",
      "metadata": {
        "id": "4XJr2LVTqQYX"
      },
      "source": [
        "logisticregression  type of regression analysis used for predicting the probability of binary outcome\n",
        "\n"
      ]
    },
    {
      "cell_type": "code",
      "execution_count": null,
      "metadata": {
        "id": "LZ5Wnhtxq5E2"
      },
      "outputs": [],
      "source": [
        "Model = LogisticRegression(max_iter=1000)\n"
      ]
    },
    {
      "cell_type": "code",
      "execution_count": null,
      "metadata": {
        "colab": {
          "base_uri": "https://localhost:8080/",
          "height": 74
        },
        "id": "QahUx0-erp14",
        "outputId": "1c9c013a-6308-4e32-ed9f-6976b5dcdebc"
      },
      "outputs": [
        {
          "data": {
            "text/html": [
              "<style>#sk-container-id-1 {color: black;background-color: white;}#sk-container-id-1 pre{padding: 0;}#sk-container-id-1 div.sk-toggleable {background-color: white;}#sk-container-id-1 label.sk-toggleable__label {cursor: pointer;display: block;width: 100%;margin-bottom: 0;padding: 0.3em;box-sizing: border-box;text-align: center;}#sk-container-id-1 label.sk-toggleable__label-arrow:before {content: \"▸\";float: left;margin-right: 0.25em;color: #696969;}#sk-container-id-1 label.sk-toggleable__label-arrow:hover:before {color: black;}#sk-container-id-1 div.sk-estimator:hover label.sk-toggleable__label-arrow:before {color: black;}#sk-container-id-1 div.sk-toggleable__content {max-height: 0;max-width: 0;overflow: hidden;text-align: left;background-color: #f0f8ff;}#sk-container-id-1 div.sk-toggleable__content pre {margin: 0.2em;color: black;border-radius: 0.25em;background-color: #f0f8ff;}#sk-container-id-1 input.sk-toggleable__control:checked~div.sk-toggleable__content {max-height: 200px;max-width: 100%;overflow: auto;}#sk-container-id-1 input.sk-toggleable__control:checked~label.sk-toggleable__label-arrow:before {content: \"▾\";}#sk-container-id-1 div.sk-estimator input.sk-toggleable__control:checked~label.sk-toggleable__label {background-color: #d4ebff;}#sk-container-id-1 div.sk-label input.sk-toggleable__control:checked~label.sk-toggleable__label {background-color: #d4ebff;}#sk-container-id-1 input.sk-hidden--visually {border: 0;clip: rect(1px 1px 1px 1px);clip: rect(1px, 1px, 1px, 1px);height: 1px;margin: -1px;overflow: hidden;padding: 0;position: absolute;width: 1px;}#sk-container-id-1 div.sk-estimator {font-family: monospace;background-color: #f0f8ff;border: 1px dotted black;border-radius: 0.25em;box-sizing: border-box;margin-bottom: 0.5em;}#sk-container-id-1 div.sk-estimator:hover {background-color: #d4ebff;}#sk-container-id-1 div.sk-parallel-item::after {content: \"\";width: 100%;border-bottom: 1px solid gray;flex-grow: 1;}#sk-container-id-1 div.sk-label:hover label.sk-toggleable__label {background-color: #d4ebff;}#sk-container-id-1 div.sk-serial::before {content: \"\";position: absolute;border-left: 1px solid gray;box-sizing: border-box;top: 0;bottom: 0;left: 50%;z-index: 0;}#sk-container-id-1 div.sk-serial {display: flex;flex-direction: column;align-items: center;background-color: white;padding-right: 0.2em;padding-left: 0.2em;position: relative;}#sk-container-id-1 div.sk-item {position: relative;z-index: 1;}#sk-container-id-1 div.sk-parallel {display: flex;align-items: stretch;justify-content: center;background-color: white;position: relative;}#sk-container-id-1 div.sk-item::before, #sk-container-id-1 div.sk-parallel-item::before {content: \"\";position: absolute;border-left: 1px solid gray;box-sizing: border-box;top: 0;bottom: 0;left: 50%;z-index: -1;}#sk-container-id-1 div.sk-parallel-item {display: flex;flex-direction: column;z-index: 1;position: relative;background-color: white;}#sk-container-id-1 div.sk-parallel-item:first-child::after {align-self: flex-end;width: 50%;}#sk-container-id-1 div.sk-parallel-item:last-child::after {align-self: flex-start;width: 50%;}#sk-container-id-1 div.sk-parallel-item:only-child::after {width: 0;}#sk-container-id-1 div.sk-dashed-wrapped {border: 1px dashed gray;margin: 0 0.4em 0.5em 0.4em;box-sizing: border-box;padding-bottom: 0.4em;background-color: white;}#sk-container-id-1 div.sk-label label {font-family: monospace;font-weight: bold;display: inline-block;line-height: 1.2em;}#sk-container-id-1 div.sk-label-container {text-align: center;}#sk-container-id-1 div.sk-container {/* jupyter's `normalize.less` sets `[hidden] { display: none; }` but bootstrap.min.css set `[hidden] { display: none !important; }` so we also need the `!important` here to be able to override the default hidden behavior on the sphinx rendered scikit-learn.org. See: https://github.com/scikit-learn/scikit-learn/issues/21755 */display: inline-block !important;position: relative;}#sk-container-id-1 div.sk-text-repr-fallback {display: none;}</style><div id=\"sk-container-id-1\" class=\"sk-top-container\"><div class=\"sk-text-repr-fallback\"><pre>LogisticRegression(max_iter=1000)</pre><b>In a Jupyter environment, please rerun this cell to show the HTML representation or trust the notebook. <br />On GitHub, the HTML representation is unable to render, please try loading this page with nbviewer.org.</b></div><div class=\"sk-container\" hidden><div class=\"sk-item\"><div class=\"sk-estimator sk-toggleable\"><input class=\"sk-toggleable__control sk-hidden--visually\" id=\"sk-estimator-id-1\" type=\"checkbox\" checked><label for=\"sk-estimator-id-1\" class=\"sk-toggleable__label sk-toggleable__label-arrow\">LogisticRegression</label><div class=\"sk-toggleable__content\"><pre>LogisticRegression(max_iter=1000)</pre></div></div></div></div></div>"
            ],
            "text/plain": [
              "LogisticRegression(max_iter=1000)"
            ]
          },
          "execution_count": 30,
          "metadata": {},
          "output_type": "execute_result"
        }
      ],
      "source": [
        "Model.fit(X_train_transform, Y_train)"
      ]
    },
    {
      "cell_type": "markdown",
      "metadata": {
        "id": "QLnagvdZr7Xw"
      },
      "source": [
        "**Model Evaluation**"
      ]
    },
    {
      "cell_type": "code",
      "execution_count": null,
      "metadata": {
        "id": "hbQV-SpQrp6Y"
      },
      "outputs": [],
      "source": [
        "from sklearn.metrics import accuracy_score\n"
      ]
    },
    {
      "cell_type": "code",
      "execution_count": null,
      "metadata": {
        "colab": {
          "base_uri": "https://localhost:8080/"
        },
        "id": "LL1Gaa35st2e",
        "outputId": "56d7368e-1aae-4222-f76e-8d5f9a855b08"
      },
      "outputs": [
        {
          "name": "stdout",
          "output_type": "stream",
          "text": [
            "[1 1 1 ... 1 1 0]\n"
          ]
        }
      ],
      "source": [
        "# Accuracy score on the train data\n",
        "x_train_prediction = Model.predict(X_train_transform)\n",
        "training_data_accuracy = accuracy_score(Y_train, x_train_prediction)\n",
        "print(x_train_prediction)"
      ]
    },
    {
      "cell_type": "code",
      "execution_count": null,
      "metadata": {
        "colab": {
          "base_uri": "https://localhost:8080/"
        },
        "id": "oMQVmqA2tTrG",
        "outputId": "a832abdd-e4e9-48aa-96f9-18305f0459dc"
      },
      "outputs": [
        {
          "name": "stdout",
          "output_type": "stream",
          "text": [
            "0.8106169642857143\n"
          ]
        }
      ],
      "source": [
        "print(training_data_accuracy)"
      ]
    },
    {
      "cell_type": "markdown",
      "metadata": {
        "id": "ToOTFLuaeZek"
      },
      "source": [
        "# Training Accuracy 81%"
      ]
    },
    {
      "cell_type": "code",
      "execution_count": null,
      "metadata": {
        "colab": {
          "base_uri": "https://localhost:8080/"
        },
        "id": "jWEKx4v078hp",
        "outputId": "bedb8e2c-b5e6-4050-da90-8d01462de001"
      },
      "outputs": [
        {
          "name": "stdout",
          "output_type": "stream",
          "text": [
            "  (0, 400455)\t0.24464092290138587\n",
            "  (0, 372248)\t0.2111379764309065\n",
            "  (0, 357350)\t0.2678444483614686\n",
            "  (0, 345122)\t0.24201085278417414\n",
            "  (0, 235076)\t0.29762268984383516\n",
            "  (0, 143634)\t0.6303950980554028\n",
            "  (0, 121198)\t0.2668513552052889\n",
            "  (0, 86927)\t0.33413484518869224\n",
            "  (0, 46696)\t0.3105296872456904\n",
            "  (1, 390597)\t0.41919925544830766\n",
            "  (1, 383626)\t0.43305234092570793\n",
            "  (1, 360939)\t0.5151309759331816\n",
            "  (1, 156589)\t0.48451365961749343\n",
            "  (1, 121102)\t0.36962717098251946\n",
            "  (2, 303665)\t1.0\n",
            "  (3, 281474)\t0.6528792362184421\n",
            "  (3, 156926)\t0.2493726437719803\n",
            "  (3, 72122)\t0.26777644261468114\n",
            "  (3, 39958)\t0.6085945392762492\n",
            "  (3, 28528)\t0.2635724776921008\n",
            "  (4, 345184)\t0.51446657839167\n",
            "  (4, 220487)\t0.25816571428786494\n",
            "  (4, 220281)\t0.3037998272593176\n",
            "  (4, 215156)\t0.21842711142276236\n",
            "  (4, 189400)\t0.463921117899177\n",
            "  :\t:\n",
            "  (479996, 229032)\t0.2679813093524318\n",
            "  (479996, 221882)\t0.13337348202484534\n",
            "  (479996, 146137)\t0.16911987546565427\n",
            "  (479996, 118268)\t0.25120743997882045\n",
            "  (479996, 112760)\t0.24731889614264216\n",
            "  (479996, 85937)\t0.12458241685151496\n",
            "  (479996, 81006)\t0.643199214486612\n",
            "  (479996, 64334)\t0.2783135662948636\n",
            "  (479996, 36680)\t0.17418950028078434\n",
            "  (479996, 28065)\t0.19734805650764328\n",
            "  (479997, 414345)\t0.2542062266634476\n",
            "  (479997, 377899)\t0.20517504108768803\n",
            "  (479997, 344550)\t0.2322027185470204\n",
            "  (479997, 340575)\t0.5838760995469279\n",
            "  (479997, 328184)\t0.18844980164450076\n",
            "  (479997, 137283)\t0.14809060586709671\n",
            "  (479997, 85937)\t0.15826821990133932\n",
            "  (479997, 75356)\t0.29846904735042334\n",
            "  (479997, 30156)\t0.5717309137824307\n",
            "  (479998, 312241)\t0.38157596345774647\n",
            "  (479998, 202255)\t0.33260150787022963\n",
            "  (479998, 139536)\t0.8624245016659384\n",
            "  (479999, 223216)\t0.43475019365074496\n",
            "  (479999, 119258)\t0.6328723771148486\n",
            "  (479999, 109678)\t0.6406752870258386\n"
          ]
        }
      ],
      "source": [
        "print(X_test_transform)"
      ]
    },
    {
      "cell_type": "code",
      "execution_count": null,
      "metadata": {
        "colab": {
          "base_uri": "https://localhost:8080/"
        },
        "id": "DtBJHOn37_2j",
        "outputId": "063c2fda-87c1-42cf-e2b2-fe0798ea8f82"
      },
      "outputs": [
        {
          "name": "stdout",
          "output_type": "stream",
          "text": [
            "(480000, 422739) (480000,)\n"
          ]
        }
      ],
      "source": [
        "print(X_test_transform.shape,Y_test.shape)"
      ]
    },
    {
      "cell_type": "code",
      "execution_count": null,
      "metadata": {
        "id": "2dbmZhUztTvK"
      },
      "outputs": [],
      "source": [
        "# Accuracy score on the test data\n",
        "x_test_prediction = Model.predict(X_test_transform)\n",
        "testing_data_accuracy = accuracy_score(Y_test, x_test_prediction)"
      ]
    },
    {
      "cell_type": "code",
      "execution_count": null,
      "metadata": {
        "colab": {
          "base_uri": "https://localhost:8080/"
        },
        "id": "Xb56wHLgsuFd",
        "outputId": "e30cdda0-6628-4f26-d08f-483aa2a4e772"
      },
      "outputs": [
        {
          "name": "stdout",
          "output_type": "stream",
          "text": [
            "0.7776708333333333\n"
          ]
        }
      ],
      "source": [
        "print(testing_data_accuracy)"
      ]
    },
    {
      "cell_type": "markdown",
      "metadata": {
        "id": "9ZL8eFphel-X"
      },
      "source": [
        "# Testing Accuracy 77%"
      ]
    },
    {
      "cell_type": "markdown",
      "metadata": {
        "id": "i-TKn5dEus-O"
      },
      "source": [
        "# **Saving Model**"
      ]
    },
    {
      "cell_type": "code",
      "execution_count": null,
      "metadata": {
        "id": "Yw8TfGYzuwld"
      },
      "outputs": [],
      "source": [
        "import pickle"
      ]
    },
    {
      "cell_type": "code",
      "execution_count": null,
      "metadata": {
        "id": "tkF3kXDlu3At"
      },
      "outputs": [],
      "source": [
        "filename = 'trained_model.sav'\n",
        "pickle.dump(Model,open(filename, 'wb')) #wb means that we are writing a file"
      ]
    },
    {
      "cell_type": "markdown",
      "metadata": {
        "id": "sX9ECseTvw7L"
      },
      "source": [
        "Loading save model for future prediction"
      ]
    },
    {
      "cell_type": "code",
      "execution_count": null,
      "metadata": {
        "id": "zSgox9D5u3FO"
      },
      "outputs": [],
      "source": [
        "load_model = pickle.load(open(\"/content/trained_model.sav\",'rb')) #rb means reading a file"
      ]
    },
    {
      "cell_type": "code",
      "execution_count": null,
      "metadata": {
        "id": "n4DzMANFbyyN"
      },
      "outputs": [],
      "source": [
        "from nltk.tokenize import word_tokenize\n",
        "nltk.download('punkt')"
      ]
    },
    {
      "cell_type": "markdown",
      "metadata": {
        "id": "jh0oUdJad11G"
      },
      "source": [
        "# **Analysis on User Tweet**"
      ]
    },
    {
      "cell_type": "code",
      "execution_count": null,
      "metadata": {
        "id": "_Q3ARfFvF50H"
      },
      "outputs": [],
      "source": [
        "def live_tweet_analysis(content):\n",
        "  stemmed_content = re.sub('[^a-zA-Z]', \" \",content)   #removing all letters which not in alphabetic\n",
        "  stemmed_content = stemmed_content.lower()   #converting all alphabet in lower form\n",
        "  stemmed_content = stemmed_content.split()   # spliting words with space\n",
        "\n",
        "  stemmed_content = [port_stem1.stem(word) for word in stemmed_content if word not in  stop_words]\n",
        "\n",
        "  stemmed_content = ' '.join(stemmed_content)\n",
        "  #tokenizing\n",
        "  tokens = word_tokenize(stemmed_content)\n",
        "  X_test_t = vectorizer.transform(tokens)  #Only transforming\n",
        "  predict_output =load_model.predict(X_test_t)\n",
        "\n",
        "  p_count = sum(map(lambda x: x == 1, predict_output))\n",
        "  n_count = sum(map(lambda x: x == 0, predict_output))\n",
        "  return (lambda p, n: \"Positive\" if p > n else \"Neutral\" if p == n else \"Negative\")(p_count, n_count)"
      ]
    },
    {
      "cell_type": "code",
      "execution_count": null,
      "metadata": {
        "colab": {
          "background_save": true,
          "base_uri": "https://localhost:8080/"
        },
        "id": "HZFGdKOjU-d7",
        "outputId": "a182d489-63c3-4515-a7f3-4677833fe914"
      },
      "outputs": [
        {
          "name": "stdout",
          "output_type": "stream",
          "text": [
            "Tweet sentiment Positive\n"
          ]
        }
      ],
      "source": [
        "tweet=input(\"Write Tweet:\")\n",
        "print(\"Tweet sentiment\", live_tweet_analysis(tweet))"
      ]
    },
    {
      "cell_type": "code",
      "execution_count": null,
      "metadata": {
        "id": "T_2HMoEBf6PH"
      },
      "outputs": [],
      "source": []
    }
  ],
  "metadata": {
    "colab": {
      "provenance": [],
      "mount_file_id": "1YUFRbL7w0Fc-W3_12joHMQ8RDMDpepWO",
      "authorship_tag": "ABX9TyNS+8biPDw0YzbZoul8wGAh",
      "include_colab_link": true
    },
    "kernelspec": {
      "display_name": "Python 3",
      "name": "python3"
    },
    "language_info": {
      "name": "python"
    }
  },
  "nbformat": 4,
  "nbformat_minor": 0
}